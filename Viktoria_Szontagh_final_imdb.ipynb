{
 "cells": [
  {
   "cell_type": "markdown",
   "metadata": {},
   "source": [
    "## Final Project Submission\n",
    "\n",
    "Please fill out:\n",
    "* Student name: Viktoria Szontagh\n",
    "* Student pace: full time\n",
    "* Scheduled project review date/time: \n",
    "* Instructor name: Joseph Mata\n",
    "* Blog post URL:\n"
   ]
  },
  {
   "cell_type": "code",
   "execution_count": null,
   "metadata": {},
   "outputs": [],
   "source": [
    "# Your code here - remember to use markdown cells for comments as well!"
   ]
  },
  {
   "cell_type": "markdown",
   "metadata": {},
   "source": [
    "## Project Overview"
   ]
  },
  {
   "cell_type": "code",
   "execution_count": null,
   "metadata": {},
   "outputs": [],
   "source": []
  },
  {
   "cell_type": "markdown",
   "metadata": {},
   "source": [
    "### Business Problem"
   ]
  },
  {
   "cell_type": "markdown",
   "metadata": {},
   "source": [
    "Microsoft sees all the big companies creating original video content and they want to get in on the fun. They have decided to create a new movie studio, but they don’t know anything about creating movies. You are charged with exploring what types of films are currently doing the best at the box office. You must then translate those findings into actionable insights that the head of Microsoft's new movie studio can use to help decide what type of films to create."
   ]
  },
  {
   "cell_type": "markdown",
   "metadata": {},
   "source": [
    "Questions\n",
    "- What genres makes the most in the box office?\n",
    "- What genres makes the most in domestic and foreign market?\n",
    "- Which languages, besides english, has the higher gross revenue?\n",
    "- What is the average runtime for the highest grossing genres?\n",
    "- What makes the movie popular? Is it the director, actor, acress?\n",
    "- Optimal film length (top 10 movies avg length)?\n",
    "- Are series bring in more money or is the revenue is constanst after the 1st?"
   ]
  },
  {
   "cell_type": "markdown",
   "metadata": {},
   "source": [
    "### The Data"
   ]
  },
  {
   "cell_type": "code",
   "execution_count": null,
   "metadata": {},
   "outputs": [],
   "source": []
  },
  {
   "cell_type": "markdown",
   "metadata": {},
   "source": [
    "### Code"
   ]
  },
  {
   "cell_type": "code",
   "execution_count": 2,
   "metadata": {},
   "outputs": [],
   "source": [
    "import pandas as pd\n",
    "import numpy as np\n",
    "import csv\n",
    "import sqlite3\n",
    "import matplotlib.pyplot as plt\n",
    "import seaborn as sns\n",
    "\n",
    "%matplotlib inline"
   ]
  },
  {
   "cell_type": "code",
   "execution_count": 3,
   "metadata": {},
   "outputs": [],
   "source": [
    "gross = pd.read_csv('zippedData/bom.movie_gross.csv.gz')\n",
    "info = pd.read_table('zippedData/rt.movie_info.tsv.gz')\n",
    "reviews = pd.read_table('zippedData/rt.reviews.tsv.gz', encoding = 'unicode_escape')\n",
    "movies = pd.read_csv('zippedData/tmdb.movies.csv.gz')\n",
    "budget = pd.read_csv('zippedData/tn.movie_budgets.csv.gz')\n",
    "im = sqlite3.Connection('zippedData/im.db')"
   ]
  },
  {
   "cell_type": "code",
   "execution_count": 4,
   "metadata": {},
   "outputs": [
    {
     "data": {
      "text/html": [
       "<div>\n",
       "<style scoped>\n",
       "    .dataframe tbody tr th:only-of-type {\n",
       "        vertical-align: middle;\n",
       "    }\n",
       "\n",
       "    .dataframe tbody tr th {\n",
       "        vertical-align: top;\n",
       "    }\n",
       "\n",
       "    .dataframe thead th {\n",
       "        text-align: right;\n",
       "    }\n",
       "</style>\n",
       "<table border=\"1\" class=\"dataframe\">\n",
       "  <thead>\n",
       "    <tr style=\"text-align: right;\">\n",
       "      <th></th>\n",
       "      <th>name</th>\n",
       "    </tr>\n",
       "  </thead>\n",
       "  <tbody>\n",
       "    <tr>\n",
       "      <th>0</th>\n",
       "      <td>movie_basics</td>\n",
       "    </tr>\n",
       "    <tr>\n",
       "      <th>1</th>\n",
       "      <td>directors</td>\n",
       "    </tr>\n",
       "    <tr>\n",
       "      <th>2</th>\n",
       "      <td>known_for</td>\n",
       "    </tr>\n",
       "    <tr>\n",
       "      <th>3</th>\n",
       "      <td>movie_akas</td>\n",
       "    </tr>\n",
       "    <tr>\n",
       "      <th>4</th>\n",
       "      <td>movie_ratings</td>\n",
       "    </tr>\n",
       "    <tr>\n",
       "      <th>5</th>\n",
       "      <td>persons</td>\n",
       "    </tr>\n",
       "    <tr>\n",
       "      <th>6</th>\n",
       "      <td>principals</td>\n",
       "    </tr>\n",
       "    <tr>\n",
       "      <th>7</th>\n",
       "      <td>writers</td>\n",
       "    </tr>\n",
       "  </tbody>\n",
       "</table>\n",
       "</div>"
      ],
      "text/plain": [
       "            name\n",
       "0   movie_basics\n",
       "1      directors\n",
       "2      known_for\n",
       "3     movie_akas\n",
       "4  movie_ratings\n",
       "5        persons\n",
       "6     principals\n",
       "7        writers"
      ]
     },
     "execution_count": 4,
     "metadata": {},
     "output_type": "execute_result"
    }
   ],
   "source": [
    "#showing all the tables in the database\n",
    "imdb_tables = \"\"\"\n",
    "SELECT name FROM sqlite_master WHERE type='table'\n",
    "\"\"\"\n",
    "pd.read_sql(imdb_tables, im)"
   ]
  },
  {
   "cell_type": "code",
   "execution_count": 12,
   "metadata": {},
   "outputs": [
    {
     "data": {
      "text/html": [
       "<div>\n",
       "<style scoped>\n",
       "    .dataframe tbody tr th:only-of-type {\n",
       "        vertical-align: middle;\n",
       "    }\n",
       "\n",
       "    .dataframe tbody tr th {\n",
       "        vertical-align: top;\n",
       "    }\n",
       "\n",
       "    .dataframe thead th {\n",
       "        text-align: right;\n",
       "    }\n",
       "</style>\n",
       "<table border=\"1\" class=\"dataframe\">\n",
       "  <thead>\n",
       "    <tr style=\"text-align: right;\">\n",
       "      <th></th>\n",
       "      <th>movie_id</th>\n",
       "      <th>primary_title</th>\n",
       "      <th>original_title</th>\n",
       "      <th>start_year</th>\n",
       "      <th>runtime_minutes</th>\n",
       "      <th>genres</th>\n",
       "    </tr>\n",
       "  </thead>\n",
       "  <tbody>\n",
       "    <tr>\n",
       "      <th>0</th>\n",
       "      <td>tt0063540</td>\n",
       "      <td>Sunghursh</td>\n",
       "      <td>Sunghursh</td>\n",
       "      <td>2013</td>\n",
       "      <td>175.0</td>\n",
       "      <td>Action,Crime,Drama</td>\n",
       "    </tr>\n",
       "    <tr>\n",
       "      <th>1</th>\n",
       "      <td>tt0066787</td>\n",
       "      <td>One Day Before the Rainy Season</td>\n",
       "      <td>Ashad Ka Ek Din</td>\n",
       "      <td>2019</td>\n",
       "      <td>114.0</td>\n",
       "      <td>Biography,Drama</td>\n",
       "    </tr>\n",
       "    <tr>\n",
       "      <th>2</th>\n",
       "      <td>tt0069049</td>\n",
       "      <td>The Other Side of the Wind</td>\n",
       "      <td>The Other Side of the Wind</td>\n",
       "      <td>2018</td>\n",
       "      <td>122.0</td>\n",
       "      <td>Drama</td>\n",
       "    </tr>\n",
       "    <tr>\n",
       "      <th>3</th>\n",
       "      <td>tt0069204</td>\n",
       "      <td>Sabse Bada Sukh</td>\n",
       "      <td>Sabse Bada Sukh</td>\n",
       "      <td>2018</td>\n",
       "      <td>NaN</td>\n",
       "      <td>Comedy,Drama</td>\n",
       "    </tr>\n",
       "    <tr>\n",
       "      <th>4</th>\n",
       "      <td>tt0100275</td>\n",
       "      <td>The Wandering Soap Opera</td>\n",
       "      <td>La Telenovela Errante</td>\n",
       "      <td>2017</td>\n",
       "      <td>80.0</td>\n",
       "      <td>Comedy,Drama,Fantasy</td>\n",
       "    </tr>\n",
       "  </tbody>\n",
       "</table>\n",
       "</div>"
      ],
      "text/plain": [
       "    movie_id                    primary_title              original_title  \\\n",
       "0  tt0063540                        Sunghursh                   Sunghursh   \n",
       "1  tt0066787  One Day Before the Rainy Season             Ashad Ka Ek Din   \n",
       "2  tt0069049       The Other Side of the Wind  The Other Side of the Wind   \n",
       "3  tt0069204                  Sabse Bada Sukh             Sabse Bada Sukh   \n",
       "4  tt0100275         The Wandering Soap Opera       La Telenovela Errante   \n",
       "\n",
       "   start_year  runtime_minutes                genres  \n",
       "0        2013            175.0    Action,Crime,Drama  \n",
       "1        2019            114.0       Biography,Drama  \n",
       "2        2018            122.0                 Drama  \n",
       "3        2018              NaN          Comedy,Drama  \n",
       "4        2017             80.0  Comedy,Drama,Fantasy  "
      ]
     },
     "execution_count": 12,
     "metadata": {},
     "output_type": "execute_result"
    }
   ],
   "source": [
    "#checking the content of the movie_basics table\n",
    "basics = (\"\"\"\n",
    "SELECT *\n",
    "FROM movie_basics;\n",
    "\"\"\")\n",
    "pd.read_sql(basics, im).head(5)"
   ]
  },
  {
   "cell_type": "code",
   "execution_count": 14,
   "metadata": {},
   "outputs": [
    {
     "data": {
      "text/html": [
       "<div>\n",
       "<style scoped>\n",
       "    .dataframe tbody tr th:only-of-type {\n",
       "        vertical-align: middle;\n",
       "    }\n",
       "\n",
       "    .dataframe tbody tr th {\n",
       "        vertical-align: top;\n",
       "    }\n",
       "\n",
       "    .dataframe thead th {\n",
       "        text-align: right;\n",
       "    }\n",
       "</style>\n",
       "<table border=\"1\" class=\"dataframe\">\n",
       "  <thead>\n",
       "    <tr style=\"text-align: right;\">\n",
       "      <th></th>\n",
       "      <th>movie_id</th>\n",
       "      <th>averagerating</th>\n",
       "      <th>numvotes</th>\n",
       "    </tr>\n",
       "  </thead>\n",
       "  <tbody>\n",
       "    <tr>\n",
       "      <th>0</th>\n",
       "      <td>tt10356526</td>\n",
       "      <td>8.3</td>\n",
       "      <td>31</td>\n",
       "    </tr>\n",
       "    <tr>\n",
       "      <th>1</th>\n",
       "      <td>tt10384606</td>\n",
       "      <td>8.9</td>\n",
       "      <td>559</td>\n",
       "    </tr>\n",
       "    <tr>\n",
       "      <th>2</th>\n",
       "      <td>tt1042974</td>\n",
       "      <td>6.4</td>\n",
       "      <td>20</td>\n",
       "    </tr>\n",
       "    <tr>\n",
       "      <th>3</th>\n",
       "      <td>tt1043726</td>\n",
       "      <td>4.2</td>\n",
       "      <td>50352</td>\n",
       "    </tr>\n",
       "    <tr>\n",
       "      <th>4</th>\n",
       "      <td>tt1060240</td>\n",
       "      <td>6.5</td>\n",
       "      <td>21</td>\n",
       "    </tr>\n",
       "  </tbody>\n",
       "</table>\n",
       "</div>"
      ],
      "text/plain": [
       "     movie_id  averagerating  numvotes\n",
       "0  tt10356526            8.3        31\n",
       "1  tt10384606            8.9       559\n",
       "2   tt1042974            6.4        20\n",
       "3   tt1043726            4.2     50352\n",
       "4   tt1060240            6.5        21"
      ]
     },
     "execution_count": 14,
     "metadata": {},
     "output_type": "execute_result"
    }
   ],
   "source": [
    "#checking the content of the movie_ratings table\n",
    "movie_ratings = (\"\"\"\n",
    "SELECT *\n",
    "FROM movie_ratings;\n",
    "\"\"\")\n",
    "pd.read_sql(movie_ratings, im).head(5)"
   ]
  },
  {
   "cell_type": "code",
   "execution_count": 32,
   "metadata": {},
   "outputs": [
    {
     "data": {
      "text/html": [
       "<div>\n",
       "<style scoped>\n",
       "    .dataframe tbody tr th:only-of-type {\n",
       "        vertical-align: middle;\n",
       "    }\n",
       "\n",
       "    .dataframe tbody tr th {\n",
       "        vertical-align: top;\n",
       "    }\n",
       "\n",
       "    .dataframe thead th {\n",
       "        text-align: right;\n",
       "    }\n",
       "</style>\n",
       "<table border=\"1\" class=\"dataframe\">\n",
       "  <thead>\n",
       "    <tr style=\"text-align: right;\">\n",
       "      <th></th>\n",
       "      <th>id</th>\n",
       "      <th>release_date</th>\n",
       "      <th>movie</th>\n",
       "      <th>production_budget</th>\n",
       "      <th>domestic_gross</th>\n",
       "      <th>worldwide_gross</th>\n",
       "    </tr>\n",
       "  </thead>\n",
       "  <tbody>\n",
       "    <tr>\n",
       "      <th>0</th>\n",
       "      <td>1</td>\n",
       "      <td>Dec 18, 2009</td>\n",
       "      <td>Avatar</td>\n",
       "      <td>$425,000,000</td>\n",
       "      <td>$760,507,625</td>\n",
       "      <td>$2,776,345,279</td>\n",
       "    </tr>\n",
       "    <tr>\n",
       "      <th>1</th>\n",
       "      <td>2</td>\n",
       "      <td>May 20, 2011</td>\n",
       "      <td>Pirates of the Caribbean: On Stranger Tides</td>\n",
       "      <td>$410,600,000</td>\n",
       "      <td>$241,063,875</td>\n",
       "      <td>$1,045,663,875</td>\n",
       "    </tr>\n",
       "    <tr>\n",
       "      <th>2</th>\n",
       "      <td>3</td>\n",
       "      <td>Jun 7, 2019</td>\n",
       "      <td>Dark Phoenix</td>\n",
       "      <td>$350,000,000</td>\n",
       "      <td>$42,762,350</td>\n",
       "      <td>$149,762,350</td>\n",
       "    </tr>\n",
       "    <tr>\n",
       "      <th>3</th>\n",
       "      <td>4</td>\n",
       "      <td>May 1, 2015</td>\n",
       "      <td>Avengers: Age of Ultron</td>\n",
       "      <td>$330,600,000</td>\n",
       "      <td>$459,005,868</td>\n",
       "      <td>$1,403,013,963</td>\n",
       "    </tr>\n",
       "    <tr>\n",
       "      <th>4</th>\n",
       "      <td>5</td>\n",
       "      <td>Dec 15, 2017</td>\n",
       "      <td>Star Wars Ep. VIII: The Last Jedi</td>\n",
       "      <td>$317,000,000</td>\n",
       "      <td>$620,181,382</td>\n",
       "      <td>$1,316,721,747</td>\n",
       "    </tr>\n",
       "  </tbody>\n",
       "</table>\n",
       "</div>"
      ],
      "text/plain": [
       "   id  release_date                                        movie  \\\n",
       "0   1  Dec 18, 2009                                       Avatar   \n",
       "1   2  May 20, 2011  Pirates of the Caribbean: On Stranger Tides   \n",
       "2   3   Jun 7, 2019                                 Dark Phoenix   \n",
       "3   4   May 1, 2015                      Avengers: Age of Ultron   \n",
       "4   5  Dec 15, 2017            Star Wars Ep. VIII: The Last Jedi   \n",
       "\n",
       "  production_budget domestic_gross worldwide_gross  \n",
       "0      $425,000,000   $760,507,625  $2,776,345,279  \n",
       "1      $410,600,000   $241,063,875  $1,045,663,875  \n",
       "2      $350,000,000    $42,762,350    $149,762,350  \n",
       "3      $330,600,000   $459,005,868  $1,403,013,963  \n",
       "4      $317,000,000   $620,181,382  $1,316,721,747  "
      ]
     },
     "execution_count": 32,
     "metadata": {},
     "output_type": "execute_result"
    }
   ],
   "source": [
    "budget.head()"
   ]
  },
  {
   "cell_type": "markdown",
   "metadata": {},
   "source": [
    "### Joining tables"
   ]
  },
  {
   "cell_type": "code",
   "execution_count": 9,
   "metadata": {},
   "outputs": [
    {
     "data": {
      "text/html": [
       "<div>\n",
       "<style scoped>\n",
       "    .dataframe tbody tr th:only-of-type {\n",
       "        vertical-align: middle;\n",
       "    }\n",
       "\n",
       "    .dataframe tbody tr th {\n",
       "        vertical-align: top;\n",
       "    }\n",
       "\n",
       "    .dataframe thead th {\n",
       "        text-align: right;\n",
       "    }\n",
       "</style>\n",
       "<table border=\"1\" class=\"dataframe\">\n",
       "  <thead>\n",
       "    <tr style=\"text-align: right;\">\n",
       "      <th></th>\n",
       "      <th>movie_id</th>\n",
       "      <th>primary_title</th>\n",
       "      <th>original_title</th>\n",
       "      <th>start_year</th>\n",
       "      <th>runtime_minutes</th>\n",
       "      <th>genres</th>\n",
       "      <th>averagerating</th>\n",
       "      <th>numvotes</th>\n",
       "    </tr>\n",
       "  </thead>\n",
       "  <tbody>\n",
       "    <tr>\n",
       "      <th>0</th>\n",
       "      <td>tt0063540</td>\n",
       "      <td>Sunghursh</td>\n",
       "      <td>Sunghursh</td>\n",
       "      <td>2013</td>\n",
       "      <td>175.0</td>\n",
       "      <td>Action,Crime,Drama</td>\n",
       "      <td>7.0</td>\n",
       "      <td>77</td>\n",
       "    </tr>\n",
       "    <tr>\n",
       "      <th>1</th>\n",
       "      <td>tt0066787</td>\n",
       "      <td>One Day Before the Rainy Season</td>\n",
       "      <td>Ashad Ka Ek Din</td>\n",
       "      <td>2019</td>\n",
       "      <td>114.0</td>\n",
       "      <td>Biography,Drama</td>\n",
       "      <td>7.2</td>\n",
       "      <td>43</td>\n",
       "    </tr>\n",
       "    <tr>\n",
       "      <th>2</th>\n",
       "      <td>tt0069049</td>\n",
       "      <td>The Other Side of the Wind</td>\n",
       "      <td>The Other Side of the Wind</td>\n",
       "      <td>2018</td>\n",
       "      <td>122.0</td>\n",
       "      <td>Drama</td>\n",
       "      <td>6.9</td>\n",
       "      <td>4517</td>\n",
       "    </tr>\n",
       "    <tr>\n",
       "      <th>3</th>\n",
       "      <td>tt0069204</td>\n",
       "      <td>Sabse Bada Sukh</td>\n",
       "      <td>Sabse Bada Sukh</td>\n",
       "      <td>2018</td>\n",
       "      <td>NaN</td>\n",
       "      <td>Comedy,Drama</td>\n",
       "      <td>6.1</td>\n",
       "      <td>13</td>\n",
       "    </tr>\n",
       "    <tr>\n",
       "      <th>4</th>\n",
       "      <td>tt0100275</td>\n",
       "      <td>The Wandering Soap Opera</td>\n",
       "      <td>La Telenovela Errante</td>\n",
       "      <td>2017</td>\n",
       "      <td>80.0</td>\n",
       "      <td>Comedy,Drama,Fantasy</td>\n",
       "      <td>6.5</td>\n",
       "      <td>119</td>\n",
       "    </tr>\n",
       "    <tr>\n",
       "      <th>...</th>\n",
       "      <td>...</td>\n",
       "      <td>...</td>\n",
       "      <td>...</td>\n",
       "      <td>...</td>\n",
       "      <td>...</td>\n",
       "      <td>...</td>\n",
       "      <td>...</td>\n",
       "      <td>...</td>\n",
       "    </tr>\n",
       "    <tr>\n",
       "      <th>73851</th>\n",
       "      <td>tt9913084</td>\n",
       "      <td>Diabolik sono io</td>\n",
       "      <td>Diabolik sono io</td>\n",
       "      <td>2019</td>\n",
       "      <td>75.0</td>\n",
       "      <td>Documentary</td>\n",
       "      <td>6.2</td>\n",
       "      <td>6</td>\n",
       "    </tr>\n",
       "    <tr>\n",
       "      <th>73852</th>\n",
       "      <td>tt9914286</td>\n",
       "      <td>Sokagin Çocuklari</td>\n",
       "      <td>Sokagin Çocuklari</td>\n",
       "      <td>2019</td>\n",
       "      <td>98.0</td>\n",
       "      <td>Drama,Family</td>\n",
       "      <td>8.7</td>\n",
       "      <td>136</td>\n",
       "    </tr>\n",
       "    <tr>\n",
       "      <th>73853</th>\n",
       "      <td>tt9914642</td>\n",
       "      <td>Albatross</td>\n",
       "      <td>Albatross</td>\n",
       "      <td>2017</td>\n",
       "      <td>NaN</td>\n",
       "      <td>Documentary</td>\n",
       "      <td>8.5</td>\n",
       "      <td>8</td>\n",
       "    </tr>\n",
       "    <tr>\n",
       "      <th>73854</th>\n",
       "      <td>tt9914942</td>\n",
       "      <td>La vida sense la Sara Amat</td>\n",
       "      <td>La vida sense la Sara Amat</td>\n",
       "      <td>2019</td>\n",
       "      <td>NaN</td>\n",
       "      <td>None</td>\n",
       "      <td>6.6</td>\n",
       "      <td>5</td>\n",
       "    </tr>\n",
       "    <tr>\n",
       "      <th>73855</th>\n",
       "      <td>tt9916160</td>\n",
       "      <td>Drømmeland</td>\n",
       "      <td>Drømmeland</td>\n",
       "      <td>2019</td>\n",
       "      <td>72.0</td>\n",
       "      <td>Documentary</td>\n",
       "      <td>6.5</td>\n",
       "      <td>11</td>\n",
       "    </tr>\n",
       "  </tbody>\n",
       "</table>\n",
       "<p>73856 rows × 8 columns</p>\n",
       "</div>"
      ],
      "text/plain": [
       "        movie_id                    primary_title              original_title  \\\n",
       "0      tt0063540                        Sunghursh                   Sunghursh   \n",
       "1      tt0066787  One Day Before the Rainy Season             Ashad Ka Ek Din   \n",
       "2      tt0069049       The Other Side of the Wind  The Other Side of the Wind   \n",
       "3      tt0069204                  Sabse Bada Sukh             Sabse Bada Sukh   \n",
       "4      tt0100275         The Wandering Soap Opera       La Telenovela Errante   \n",
       "...          ...                              ...                         ...   \n",
       "73851  tt9913084                 Diabolik sono io            Diabolik sono io   \n",
       "73852  tt9914286                Sokagin Çocuklari           Sokagin Çocuklari   \n",
       "73853  tt9914642                        Albatross                   Albatross   \n",
       "73854  tt9914942       La vida sense la Sara Amat  La vida sense la Sara Amat   \n",
       "73855  tt9916160                       Drømmeland                  Drømmeland   \n",
       "\n",
       "       start_year  runtime_minutes                genres  averagerating  \\\n",
       "0            2013            175.0    Action,Crime,Drama            7.0   \n",
       "1            2019            114.0       Biography,Drama            7.2   \n",
       "2            2018            122.0                 Drama            6.9   \n",
       "3            2018              NaN          Comedy,Drama            6.1   \n",
       "4            2017             80.0  Comedy,Drama,Fantasy            6.5   \n",
       "...           ...              ...                   ...            ...   \n",
       "73851        2019             75.0           Documentary            6.2   \n",
       "73852        2019             98.0          Drama,Family            8.7   \n",
       "73853        2017              NaN           Documentary            8.5   \n",
       "73854        2019              NaN                  None            6.6   \n",
       "73855        2019             72.0           Documentary            6.5   \n",
       "\n",
       "       numvotes  \n",
       "0            77  \n",
       "1            43  \n",
       "2          4517  \n",
       "3            13  \n",
       "4           119  \n",
       "...         ...  \n",
       "73851         6  \n",
       "73852       136  \n",
       "73853         8  \n",
       "73854         5  \n",
       "73855        11  \n",
       "\n",
       "[73856 rows x 8 columns]"
      ]
     },
     "execution_count": 9,
     "metadata": {},
     "output_type": "execute_result"
    }
   ],
   "source": [
    "imdb = pd.read_sql(\"\"\"\n",
    "SELECT *\n",
    "FROM movie_basics\n",
    "JOIN movie_ratings\n",
    "    USING (movie_id);\n",
    "\"\"\", im)\n",
    "\n",
    "imdb"
   ]
  },
  {
   "cell_type": "code",
   "execution_count": 10,
   "metadata": {},
   "outputs": [
    {
     "name": "stdout",
     "output_type": "stream",
     "text": [
      "<class 'pandas.core.frame.DataFrame'>\n",
      "RangeIndex: 73856 entries, 0 to 73855\n",
      "Data columns (total 8 columns):\n",
      " #   Column           Non-Null Count  Dtype  \n",
      "---  ------           --------------  -----  \n",
      " 0   movie_id         73856 non-null  object \n",
      " 1   primary_title    73856 non-null  object \n",
      " 2   original_title   73856 non-null  object \n",
      " 3   start_year       73856 non-null  int64  \n",
      " 4   runtime_minutes  66236 non-null  float64\n",
      " 5   genres           73052 non-null  object \n",
      " 6   averagerating    73856 non-null  float64\n",
      " 7   numvotes         73856 non-null  int64  \n",
      "dtypes: float64(2), int64(2), object(4)\n",
      "memory usage: 4.5+ MB\n"
     ]
    }
   ],
   "source": [
    "imdb.info()"
   ]
  },
  {
   "cell_type": "code",
   "execution_count": 15,
   "metadata": {},
   "outputs": [
    {
     "data": {
      "text/plain": [
       "movie_id              0\n",
       "primary_title         0\n",
       "original_title        0\n",
       "start_year            0\n",
       "runtime_minutes    7620\n",
       "genres              804\n",
       "averagerating         0\n",
       "numvotes              0\n",
       "dtype: int64"
      ]
     },
     "execution_count": 15,
     "metadata": {},
     "output_type": "execute_result"
    }
   ],
   "source": [
    "imdb.isna().sum()"
   ]
  },
  {
   "cell_type": "markdown",
   "metadata": {},
   "source": [
    "After joining the movie_basics and movie_ratings there are 73856 lines in the combined table.\n",
    "The runtime_minutes and genres columns has missing information. \n",
    "After reviewing the columns with the missing values, I decided to drop the rows containing them,\n",
    "as they have no added value for the data analysis.\n"
   ]
  },
  {
   "cell_type": "code",
   "execution_count": 16,
   "metadata": {},
   "outputs": [],
   "source": [
    "imdb = imdb[imdb['genres'].notna()]"
   ]
  },
  {
   "cell_type": "code",
   "execution_count": 18,
   "metadata": {},
   "outputs": [
    {
     "data": {
      "text/plain": [
       "movie_id              0\n",
       "primary_title         0\n",
       "original_title        0\n",
       "start_year            0\n",
       "runtime_minutes    7332\n",
       "genres                0\n",
       "averagerating         0\n",
       "numvotes              0\n",
       "dtype: int64"
      ]
     },
     "execution_count": 18,
     "metadata": {},
     "output_type": "execute_result"
    }
   ],
   "source": [
    "#check if the missing genre is droped\n",
    "imdb.isna().sum()"
   ]
  },
  {
   "cell_type": "code",
   "execution_count": 24,
   "metadata": {},
   "outputs": [
    {
     "data": {
      "text/html": [
       "<div>\n",
       "<style scoped>\n",
       "    .dataframe tbody tr th:only-of-type {\n",
       "        vertical-align: middle;\n",
       "    }\n",
       "\n",
       "    .dataframe tbody tr th {\n",
       "        vertical-align: top;\n",
       "    }\n",
       "\n",
       "    .dataframe thead th {\n",
       "        text-align: right;\n",
       "    }\n",
       "</style>\n",
       "<table border=\"1\" class=\"dataframe\">\n",
       "  <thead>\n",
       "    <tr style=\"text-align: right;\">\n",
       "      <th></th>\n",
       "      <th>movie_id</th>\n",
       "      <th>primary_title</th>\n",
       "      <th>original_title</th>\n",
       "      <th>start_year</th>\n",
       "      <th>runtime_minutes</th>\n",
       "      <th>genres</th>\n",
       "      <th>averagerating</th>\n",
       "      <th>numvotes</th>\n",
       "    </tr>\n",
       "  </thead>\n",
       "  <tbody>\n",
       "    <tr>\n",
       "      <th>73816</th>\n",
       "      <td>tt9887130</td>\n",
       "      <td>The Human Comedy</td>\n",
       "      <td>The Human Comedy</td>\n",
       "      <td>2019</td>\n",
       "      <td>NaN</td>\n",
       "      <td>Comedy</td>\n",
       "      <td>3.2</td>\n",
       "      <td>17</td>\n",
       "    </tr>\n",
       "    <tr>\n",
       "      <th>73828</th>\n",
       "      <td>tt9899290</td>\n",
       "      <td>Band Together with Logic</td>\n",
       "      <td>Band Together with Logic</td>\n",
       "      <td>2019</td>\n",
       "      <td>NaN</td>\n",
       "      <td>Documentary</td>\n",
       "      <td>8.7</td>\n",
       "      <td>10</td>\n",
       "    </tr>\n",
       "    <tr>\n",
       "      <th>73830</th>\n",
       "      <td>tt9899850</td>\n",
       "      <td>The Agitation</td>\n",
       "      <td>Ashoftegi</td>\n",
       "      <td>2019</td>\n",
       "      <td>NaN</td>\n",
       "      <td>Drama,Thriller</td>\n",
       "      <td>4.9</td>\n",
       "      <td>14</td>\n",
       "    </tr>\n",
       "    <tr>\n",
       "      <th>73844</th>\n",
       "      <td>tt9905796</td>\n",
       "      <td>July Kaatril</td>\n",
       "      <td>July Kaatril</td>\n",
       "      <td>2019</td>\n",
       "      <td>NaN</td>\n",
       "      <td>Romance</td>\n",
       "      <td>9.0</td>\n",
       "      <td>5</td>\n",
       "    </tr>\n",
       "    <tr>\n",
       "      <th>73853</th>\n",
       "      <td>tt9914642</td>\n",
       "      <td>Albatross</td>\n",
       "      <td>Albatross</td>\n",
       "      <td>2017</td>\n",
       "      <td>NaN</td>\n",
       "      <td>Documentary</td>\n",
       "      <td>8.5</td>\n",
       "      <td>8</td>\n",
       "    </tr>\n",
       "  </tbody>\n",
       "</table>\n",
       "</div>"
      ],
      "text/plain": [
       "        movie_id             primary_title            original_title  \\\n",
       "73816  tt9887130          The Human Comedy          The Human Comedy   \n",
       "73828  tt9899290  Band Together with Logic  Band Together with Logic   \n",
       "73830  tt9899850             The Agitation                 Ashoftegi   \n",
       "73844  tt9905796              July Kaatril              July Kaatril   \n",
       "73853  tt9914642                 Albatross                 Albatross   \n",
       "\n",
       "       start_year  runtime_minutes          genres  averagerating  numvotes  \n",
       "73816        2019              NaN          Comedy            3.2        17  \n",
       "73828        2019              NaN     Documentary            8.7        10  \n",
       "73830        2019              NaN  Drama,Thriller            4.9        14  \n",
       "73844        2019              NaN         Romance            9.0         5  \n",
       "73853        2017              NaN     Documentary            8.5         8  "
      ]
     },
     "execution_count": 24,
     "metadata": {},
     "output_type": "execute_result"
    }
   ],
   "source": [
    "#checking runtime null values\n",
    "run_t = imdb[imdb['runtime_minutes'].isna()]\n",
    "run_t.tail()"
   ]
  },
  {
   "cell_type": "code",
   "execution_count": 25,
   "metadata": {},
   "outputs": [],
   "source": [
    "#removing lines with missing runtime_minutes\n",
    "imdb = imdb[imdb['runtime_minutes'].notna()]\n"
   ]
  },
  {
   "cell_type": "code",
   "execution_count": 51,
   "metadata": {},
   "outputs": [
    {
     "data": {
      "text/html": [
       "<div>\n",
       "<style scoped>\n",
       "    .dataframe tbody tr th:only-of-type {\n",
       "        vertical-align: middle;\n",
       "    }\n",
       "\n",
       "    .dataframe tbody tr th {\n",
       "        vertical-align: top;\n",
       "    }\n",
       "\n",
       "    .dataframe thead th {\n",
       "        text-align: right;\n",
       "    }\n",
       "</style>\n",
       "<table border=\"1\" class=\"dataframe\">\n",
       "  <thead>\n",
       "    <tr style=\"text-align: right;\">\n",
       "      <th></th>\n",
       "      <th>movie_id</th>\n",
       "      <th>primary_title</th>\n",
       "      <th>original_title</th>\n",
       "      <th>start_year</th>\n",
       "      <th>runtime_minutes</th>\n",
       "      <th>genres</th>\n",
       "      <th>averagerating</th>\n",
       "      <th>numvotes</th>\n",
       "    </tr>\n",
       "  </thead>\n",
       "  <tbody>\n",
       "    <tr>\n",
       "      <th>0</th>\n",
       "      <td>tt0063540</td>\n",
       "      <td>Sunghursh</td>\n",
       "      <td>Sunghursh</td>\n",
       "      <td>2013</td>\n",
       "      <td>175.0</td>\n",
       "      <td>Crime</td>\n",
       "      <td>7.0</td>\n",
       "      <td>77</td>\n",
       "    </tr>\n",
       "    <tr>\n",
       "      <th>1</th>\n",
       "      <td>tt0066787</td>\n",
       "      <td>One Day Before the Rainy Season</td>\n",
       "      <td>Ashad Ka Ek Din</td>\n",
       "      <td>2019</td>\n",
       "      <td>114.0</td>\n",
       "      <td>Biography</td>\n",
       "      <td>7.2</td>\n",
       "      <td>43</td>\n",
       "    </tr>\n",
       "    <tr>\n",
       "      <th>2</th>\n",
       "      <td>tt0069049</td>\n",
       "      <td>The Other Side of the Wind</td>\n",
       "      <td>The Other Side of the Wind</td>\n",
       "      <td>2018</td>\n",
       "      <td>122.0</td>\n",
       "      <td>Drama</td>\n",
       "      <td>6.9</td>\n",
       "      <td>4517</td>\n",
       "    </tr>\n",
       "    <tr>\n",
       "      <th>3</th>\n",
       "      <td>tt0100275</td>\n",
       "      <td>The Wandering Soap Opera</td>\n",
       "      <td>La Telenovela Errante</td>\n",
       "      <td>2017</td>\n",
       "      <td>80.0</td>\n",
       "      <td>Comedy,Drama,Fantasy</td>\n",
       "      <td>6.5</td>\n",
       "      <td>119</td>\n",
       "    </tr>\n",
       "    <tr>\n",
       "      <th>4</th>\n",
       "      <td>tt0137204</td>\n",
       "      <td>Joe Finds Grace</td>\n",
       "      <td>Joe Finds Grace</td>\n",
       "      <td>2017</td>\n",
       "      <td>83.0</td>\n",
       "      <td>Adventure,Animation,Comedy</td>\n",
       "      <td>8.1</td>\n",
       "      <td>263</td>\n",
       "    </tr>\n",
       "    <tr>\n",
       "      <th>...</th>\n",
       "      <td>...</td>\n",
       "      <td>...</td>\n",
       "      <td>...</td>\n",
       "      <td>...</td>\n",
       "      <td>...</td>\n",
       "      <td>...</td>\n",
       "      <td>...</td>\n",
       "      <td>...</td>\n",
       "    </tr>\n",
       "    <tr>\n",
       "      <th>65715</th>\n",
       "      <td>tt9911774</td>\n",
       "      <td>Padmavyuhathile Abhimanyu</td>\n",
       "      <td>Padmavyuhathile Abhimanyu</td>\n",
       "      <td>2019</td>\n",
       "      <td>130.0</td>\n",
       "      <td>Drama</td>\n",
       "      <td>8.4</td>\n",
       "      <td>365</td>\n",
       "    </tr>\n",
       "    <tr>\n",
       "      <th>65716</th>\n",
       "      <td>tt9913056</td>\n",
       "      <td>Swarm Season</td>\n",
       "      <td>Swarm Season</td>\n",
       "      <td>2019</td>\n",
       "      <td>86.0</td>\n",
       "      <td>Documentary</td>\n",
       "      <td>6.2</td>\n",
       "      <td>5</td>\n",
       "    </tr>\n",
       "    <tr>\n",
       "      <th>65717</th>\n",
       "      <td>tt9913084</td>\n",
       "      <td>Diabolik sono io</td>\n",
       "      <td>Diabolik sono io</td>\n",
       "      <td>2019</td>\n",
       "      <td>75.0</td>\n",
       "      <td>Documentary</td>\n",
       "      <td>6.2</td>\n",
       "      <td>6</td>\n",
       "    </tr>\n",
       "    <tr>\n",
       "      <th>65718</th>\n",
       "      <td>tt9914286</td>\n",
       "      <td>Sokagin Çocuklari</td>\n",
       "      <td>Sokagin Çocuklari</td>\n",
       "      <td>2019</td>\n",
       "      <td>98.0</td>\n",
       "      <td>Drama,Family</td>\n",
       "      <td>8.7</td>\n",
       "      <td>136</td>\n",
       "    </tr>\n",
       "    <tr>\n",
       "      <th>65719</th>\n",
       "      <td>tt9916160</td>\n",
       "      <td>Drømmeland</td>\n",
       "      <td>Drømmeland</td>\n",
       "      <td>2019</td>\n",
       "      <td>72.0</td>\n",
       "      <td>Documentary</td>\n",
       "      <td>6.5</td>\n",
       "      <td>11</td>\n",
       "    </tr>\n",
       "  </tbody>\n",
       "</table>\n",
       "<p>65720 rows × 8 columns</p>\n",
       "</div>"
      ],
      "text/plain": [
       "        movie_id                    primary_title              original_title  \\\n",
       "0      tt0063540                        Sunghursh                   Sunghursh   \n",
       "1      tt0066787  One Day Before the Rainy Season             Ashad Ka Ek Din   \n",
       "2      tt0069049       The Other Side of the Wind  The Other Side of the Wind   \n",
       "3      tt0100275         The Wandering Soap Opera       La Telenovela Errante   \n",
       "4      tt0137204                  Joe Finds Grace             Joe Finds Grace   \n",
       "...          ...                              ...                         ...   \n",
       "65715  tt9911774        Padmavyuhathile Abhimanyu   Padmavyuhathile Abhimanyu   \n",
       "65716  tt9913056                     Swarm Season                Swarm Season   \n",
       "65717  tt9913084                 Diabolik sono io            Diabolik sono io   \n",
       "65718  tt9914286                Sokagin Çocuklari           Sokagin Çocuklari   \n",
       "65719  tt9916160                       Drømmeland                  Drømmeland   \n",
       "\n",
       "       start_year  runtime_minutes                      genres  averagerating  \\\n",
       "0            2013            175.0                       Crime            7.0   \n",
       "1            2019            114.0                   Biography            7.2   \n",
       "2            2018            122.0                       Drama            6.9   \n",
       "3            2017             80.0        Comedy,Drama,Fantasy            6.5   \n",
       "4            2017             83.0  Adventure,Animation,Comedy            8.1   \n",
       "...           ...              ...                         ...            ...   \n",
       "65715        2019            130.0                       Drama            8.4   \n",
       "65716        2019             86.0                 Documentary            6.2   \n",
       "65717        2019             75.0                 Documentary            6.2   \n",
       "65718        2019             98.0                Drama,Family            8.7   \n",
       "65719        2019             72.0                 Documentary            6.5   \n",
       "\n",
       "       numvotes  \n",
       "0            77  \n",
       "1            43  \n",
       "2          4517  \n",
       "3           119  \n",
       "4           263  \n",
       "...         ...  \n",
       "65715       365  \n",
       "65716         5  \n",
       "65717         6  \n",
       "65718       136  \n",
       "65719        11  \n",
       "\n",
       "[65720 rows x 8 columns]"
      ]
     },
     "execution_count": 51,
     "metadata": {},
     "output_type": "execute_result"
    }
   ],
   "source": [
    "#imdb.head()\n",
    "#reseting the index of the table\n",
    "imdb =imdb.reset_index()\n",
    "#removing unecessary columns\n",
    "imdb = imdb.drop('index', axis = 1)\n",
    "imdb = imdb.drop('level_0', axis = 1)\n",
    "imdb"
   ]
  },
  {
   "cell_type": "code",
   "execution_count": 42,
   "metadata": {},
   "outputs": [
    {
     "data": {
      "text/plain": [
       "Drama                   10189\n",
       "Documentary              9149\n",
       "Comedy                   4604\n",
       "Comedy,Drama             2451\n",
       "Horror                   2232\n",
       "Drama,Romance            1392\n",
       "Thriller                 1288\n",
       "Comedy,Drama,Romance     1159\n",
       "Comedy,Romance           1128\n",
       "Horror,Thriller           943\n",
       "Name: genres, dtype: int64"
      ]
     },
     "execution_count": 42,
     "metadata": {},
     "output_type": "execute_result"
    }
   ],
   "source": [
    "#checking the value count of the genre column\n",
    "imdb['genres'].value_counts().head(10)\n"
   ]
  },
  {
   "cell_type": "code",
   "execution_count": null,
   "metadata": {},
   "outputs": [],
   "source": [
    "There are multiple lines where the column genres has multiple values for one movie. \n",
    "I decided to keep only the most typical one. For example: in the above example, if the genre has 'Comedy, Drama',\n",
    "I will keep drama, over comedy, same with horror over thriller, drama over comedy and romance.\n"
   ]
  },
  {
   "cell_type": "code",
   "execution_count": 47,
   "metadata": {},
   "outputs": [
    {
     "data": {
      "text/plain": [
       "'Crime'"
      ]
     },
     "execution_count": 47,
     "metadata": {},
     "output_type": "execute_result"
    }
   ],
   "source": [
    "imdb['genres'][0]"
   ]
  },
  {
   "cell_type": "code",
   "execution_count": 52,
   "metadata": {},
   "outputs": [
    {
     "name": "stderr",
     "output_type": "stream",
     "text": [
      "/var/folders/0k/t_v9n_fd08b6ymg1f7lkdlb40000gn/T/ipykernel_31144/3372114706.py:15: SettingWithCopyWarning: \n",
      "A value is trying to be set on a copy of a slice from a DataFrame\n",
      "\n",
      "See the caveats in the documentation: https://pandas.pydata.org/pandas-docs/stable/user_guide/indexing.html#returning-a-view-versus-a-copy\n",
      "  imdb['genres'][i] = 'Crime'\n",
      "/var/folders/0k/t_v9n_fd08b6ymg1f7lkdlb40000gn/T/ipykernel_31144/3372114706.py:11: SettingWithCopyWarning: \n",
      "A value is trying to be set on a copy of a slice from a DataFrame\n",
      "\n",
      "See the caveats in the documentation: https://pandas.pydata.org/pandas-docs/stable/user_guide/indexing.html#returning-a-view-versus-a-copy\n",
      "  imdb['genres'][i] = 'Biography'\n",
      "/var/folders/0k/t_v9n_fd08b6ymg1f7lkdlb40000gn/T/ipykernel_31144/3372114706.py:9: SettingWithCopyWarning: \n",
      "A value is trying to be set on a copy of a slice from a DataFrame\n",
      "\n",
      "See the caveats in the documentation: https://pandas.pydata.org/pandas-docs/stable/user_guide/indexing.html#returning-a-view-versus-a-copy\n",
      "  imdb['genres'][i] = 'Comedy'\n",
      "/var/folders/0k/t_v9n_fd08b6ymg1f7lkdlb40000gn/T/ipykernel_31144/3372114706.py:5: SettingWithCopyWarning: \n",
      "A value is trying to be set on a copy of a slice from a DataFrame\n",
      "\n",
      "See the caveats in the documentation: https://pandas.pydata.org/pandas-docs/stable/user_guide/indexing.html#returning-a-view-versus-a-copy\n",
      "  imdb['genres'][i] = 'Animation'\n",
      "/var/folders/0k/t_v9n_fd08b6ymg1f7lkdlb40000gn/T/ipykernel_31144/3372114706.py:19: SettingWithCopyWarning: \n",
      "A value is trying to be set on a copy of a slice from a DataFrame\n",
      "\n",
      "See the caveats in the documentation: https://pandas.pydata.org/pandas-docs/stable/user_guide/indexing.html#returning-a-view-versus-a-copy\n",
      "  imdb['genres'][i] = 'Sci-Fi'\n",
      "/var/folders/0k/t_v9n_fd08b6ymg1f7lkdlb40000gn/T/ipykernel_31144/3372114706.py:7: SettingWithCopyWarning: \n",
      "A value is trying to be set on a copy of a slice from a DataFrame\n",
      "\n",
      "See the caveats in the documentation: https://pandas.pydata.org/pandas-docs/stable/user_guide/indexing.html#returning-a-view-versus-a-copy\n",
      "  imdb['genres'][i] = 'Horror'\n",
      "/var/folders/0k/t_v9n_fd08b6ymg1f7lkdlb40000gn/T/ipykernel_31144/3372114706.py:21: SettingWithCopyWarning: \n",
      "A value is trying to be set on a copy of a slice from a DataFrame\n",
      "\n",
      "See the caveats in the documentation: https://pandas.pydata.org/pandas-docs/stable/user_guide/indexing.html#returning-a-view-versus-a-copy\n",
      "  imdb['genres'][i] = 'Adventure'\n",
      "/var/folders/0k/t_v9n_fd08b6ymg1f7lkdlb40000gn/T/ipykernel_31144/3372114706.py:23: SettingWithCopyWarning: \n",
      "A value is trying to be set on a copy of a slice from a DataFrame\n",
      "\n",
      "See the caveats in the documentation: https://pandas.pydata.org/pandas-docs/stable/user_guide/indexing.html#returning-a-view-versus-a-copy\n",
      "  imdb['genres'][i] = 'Fantasy'\n",
      "/var/folders/0k/t_v9n_fd08b6ymg1f7lkdlb40000gn/T/ipykernel_31144/3372114706.py:13: SettingWithCopyWarning: \n",
      "A value is trying to be set on a copy of a slice from a DataFrame\n",
      "\n",
      "See the caveats in the documentation: https://pandas.pydata.org/pandas-docs/stable/user_guide/indexing.html#returning-a-view-versus-a-copy\n",
      "  imdb['genres'][i] = 'Sport'\n"
     ]
    }
   ],
   "source": [
    "#replace the multi-value genres, to one single genre\n",
    "\n",
    "for i in range(len(imdb)):\n",
    "    if 'Animation' in  imdb['genres'][i]:\n",
    "        imdb['genres'][i] = 'Animation'\n",
    "    elif 'Horror' in  imdb['genres'][i]:\n",
    "        imdb['genres'][i] = 'Horror'\n",
    "    elif 'Comedy' in  imdb['genres'][i]:\n",
    "        imdb['genres'][i] = 'Comedy'\n",
    "    elif 'Biography' in  imdb['genres'][i]:\n",
    "        imdb['genres'][i] = 'Biography'\n",
    "    elif 'Sport' in  imdb['genres'][i]:\n",
    "        imdb['genres'][i] = 'Sport'\n",
    "    if 'Crime' in  imdb['genres'][i]:\n",
    "        imdb['genres'][i] = 'Crime'\n",
    "    elif 'Documenary' in  imdb['genres'][i]:\n",
    "        imdb['genres'][i] = 'Documentary'\n",
    "    elif 'Sci-Fi' in  imdb['genres'][i]:\n",
    "        imdb['genres'][i] = 'Sci-Fi'\n",
    "    elif 'Adventure' in  imdb['genres'][i]:\n",
    "        imdb['genres'][i] = 'Adventure'\n",
    "    elif 'Fantasy' in  imdb['genres'][i]:\n",
    "        imdb['genres'][i] = 'Fantasy'"
   ]
  },
  {
   "cell_type": "code",
   "execution_count": 53,
   "metadata": {},
   "outputs": [
    {
     "data": {
      "text/plain": [
       "array(['Crime', 'Biography', 'Drama', 'Comedy', 'Animation', 'History',\n",
       "       'Documentary', 'Drama,Mystery', 'Action,Drama',\n",
       "       'Documentary,History', 'Sci-Fi', 'Thriller', 'Horror',\n",
       "       'Drama,Mystery,Thriller', 'Drama,Family', 'Adventure', 'Action',\n",
       "       'Drama,History,War', 'Action,Thriller', 'Fantasy',\n",
       "       'Action,Drama,Family', 'Drama,Romance', 'Drama,Romance,War',\n",
       "       'Drama,Thriller', 'Mystery,Thriller', 'Sport',\n",
       "       'Drama,Music,Romance', 'Drama,History,Romance',\n",
       "       'Documentary,Music', 'Drama,Mystery,War', 'Documentary,Drama',\n",
       "       'Drama,Music', 'Drama,War', 'Romance', 'Mystery', 'Musical',\n",
       "       'Action,Drama,Thriller', 'Mystery,Romance',\n",
       "       'Action,Mystery,Thriller', 'Family', 'Documentary,History,War',\n",
       "       'Western', 'Music', 'Action,History', 'Documentary,War',\n",
       "       'Drama,History', 'Drama,Romance,Thriller', 'Drama,Music,Musical',\n",
       "       'Documentary,Drama,History', 'Drama,Musical',\n",
       "       'Action,Drama,Western', 'Action,Drama,Romance',\n",
       "       'Documentary,Family,News', 'Drama,Musical,War',\n",
       "       'Drama,Mystery,Romance', 'Action,Drama,History',\n",
       "       'Action,Drama,Mystery', 'Drama,Thriller,Western',\n",
       "       'Action,Drama,War', 'Action,Drama,Music', 'Romance,Thriller',\n",
       "       'Documentary,Family', 'Action,Thriller,War', 'Drama,Thriller,War',\n",
       "       'Action,War', 'Drama,Musical,Romance', 'Drama,Western',\n",
       "       'History,Music', 'Documentary,Drama,Music',\n",
       "       'Documentary,History,Music', 'Drama,Family,Music',\n",
       "       'Documentary,News', 'Documentary,Drama,News',\n",
       "       'Action,History,Thriller', 'Drama,History,Thriller',\n",
       "       'Documentary,Drama,Family', 'Family,Musical', 'Music,Romance',\n",
       "       'Documentary,Family,Music', 'Mystery,Thriller,Western',\n",
       "       'Documentary,History,News', 'Thriller,Western',\n",
       "       'Documentary,Western', 'Documentary,Thriller',\n",
       "       'Documentary,Romance', 'Documentary,Drama,Reality-TV',\n",
       "       'Documentary,Music,Musical', 'Thriller,War', 'Documentary,Mystery',\n",
       "       'Documentary,Reality-TV', 'Action,Documentary,History',\n",
       "       'Drama,Music,Thriller', 'Action,Documentary,Family',\n",
       "       'Action,Documentary,War', 'Documentary,Family,History',\n",
       "       'Action,Documentary', 'Documentary,Drama,Mystery',\n",
       "       'Musical,Romance', 'Documentary,Drama,War',\n",
       "       'Drama,Family,Thriller', 'Drama,Family,History',\n",
       "       'Action,Documentary,Drama', 'Drama,News,War',\n",
       "       'Drama,Family,Romance', 'Family,Mystery', 'Action,Mystery',\n",
       "       'Documentary,Musical', 'Mystery,Romance,Thriller',\n",
       "       'Action,Romance,Thriller', 'Family,Romance', 'Action,Family',\n",
       "       'Drama,History,Musical', 'Drama,Music,War',\n",
       "       'Documentary,Drama,Romance', 'Documentary,Music,Romance',\n",
       "       'Documentary,Music,War', 'Documentary,Family,Romance',\n",
       "       'Drama,Family,War', 'Drama,Romance,Western', 'Action,Western',\n",
       "       'Documentary,Drama,Musical', 'Documentary,News,War', 'War',\n",
       "       'Drama,Family,Mystery', 'Drama,Family,Musical', 'Action,Romance',\n",
       "       'Documentary,History,Mystery', 'Drama,Musical,Thriller',\n",
       "       'Action,Drama,News', 'Drama,History,Mystery',\n",
       "       'Action,Family,Mystery', 'History,Thriller,War',\n",
       "       'Documentary,History,Western', 'Action,Musical,Romance',\n",
       "       'Action,Romance,War', 'Documentary,Music,Mystery',\n",
       "       'Music,Mystery,Thriller', 'Family,Mystery,Thriller',\n",
       "       'Drama,Game-Show,Thriller', 'Documentary,Drama,Western', 'News',\n",
       "       'Action,Music', 'Music,Musical', 'Documentary,History,Romance',\n",
       "       'Documentary,Music,News', 'Musical,Romance,Thriller',\n",
       "       'Documentary,Mystery,News', 'Drama,Mystery,Western',\n",
       "       'Drama,Music,Mystery', 'Music,Musical,Romance',\n",
       "       'Drama,History,News', 'Documentary,News,Thriller',\n",
       "       'Documentary,History,Thriller', 'Documentary,Drama,Thriller',\n",
       "       'Family,Music,Romance', 'Family,Musical,Romance',\n",
       "       'Mystery,News,Thriller', 'Drama,History,Music',\n",
       "       'Documentary,Family,Western', 'Action,Musical,Thriller',\n",
       "       'Action,Family,Western', 'Drama,News',\n",
       "       'Documentary,Musical,Mystery', 'Drama,News,Thriller',\n",
       "       'Musical,Thriller', 'Action,Musical', 'Documentary,News,Romance',\n",
       "       'Game-Show', 'Drama,War,Western', 'Family,History,War',\n",
       "       'Documentary,History,Musical', 'Action,History,War',\n",
       "       'Documentary,Mystery,Thriller', 'History,Romance',\n",
       "       'Action,Drama,Musical', 'Drama,History,Western',\n",
       "       'Documentary,News,Reality-TV', 'Action,Documentary,News',\n",
       "       'Action,Documentary,Thriller', 'Documentary,Family,War',\n",
       "       'History,Western', 'History,Romance,Western',\n",
       "       'Musical,Mystery,Thriller', 'History,Thriller', 'Family,Thriller',\n",
       "       'Documentary,Family,Mystery', 'Action,Mystery,Western',\n",
       "       'Documentary,Family,Musical', 'Drama,Mystery,News',\n",
       "       'Drama,Family,Western', 'History,War', 'Drama,Music,News',\n",
       "       'Family,Music', 'Drama,Family,News', 'Reality-TV',\n",
       "       'History,Musical,Romance', 'Action,Thriller,Western',\n",
       "       'Documentary,History,Reality-TV', 'Family,Western',\n",
       "       'Drama,Musical,Western', 'History,Romance,War',\n",
       "       'Action,Mystery,Romance', 'Romance,Western', 'History,Musical',\n",
       "       'Documentary,Music,Reality-TV', 'Action,Family,Thriller',\n",
       "       'Romance,Thriller,War', 'History,Mystery,Thriller',\n",
       "       'Musical,Romance,Western', 'Drama,Short'], dtype=object)"
      ]
     },
     "execution_count": 53,
     "metadata": {},
     "output_type": "execute_result"
    }
   ],
   "source": [
    "imdb['genres'].unique()"
   ]
  },
  {
   "cell_type": "code",
   "execution_count": 58,
   "metadata": {},
   "outputs": [
    {
     "name": "stderr",
     "output_type": "stream",
     "text": [
      "/var/folders/0k/t_v9n_fd08b6ymg1f7lkdlb40000gn/T/ipykernel_31144/1690897822.py:7: SettingWithCopyWarning: \n",
      "A value is trying to be set on a copy of a slice from a DataFrame\n",
      "\n",
      "See the caveats in the documentation: https://pandas.pydata.org/pandas-docs/stable/user_guide/indexing.html#returning-a-view-versus-a-copy\n",
      "  imdb['genres'][i] = 'Drama'\n",
      "/var/folders/0k/t_v9n_fd08b6ymg1f7lkdlb40000gn/T/ipykernel_31144/1690897822.py:3: SettingWithCopyWarning: \n",
      "A value is trying to be set on a copy of a slice from a DataFrame\n",
      "\n",
      "See the caveats in the documentation: https://pandas.pydata.org/pandas-docs/stable/user_guide/indexing.html#returning-a-view-versus-a-copy\n",
      "  imdb['genres'][i] = 'History'\n",
      "/var/folders/0k/t_v9n_fd08b6ymg1f7lkdlb40000gn/T/ipykernel_31144/1690897822.py:13: SettingWithCopyWarning: \n",
      "A value is trying to be set on a copy of a slice from a DataFrame\n",
      "\n",
      "See the caveats in the documentation: https://pandas.pydata.org/pandas-docs/stable/user_guide/indexing.html#returning-a-view-versus-a-copy\n",
      "  imdb['genres'][i] = 'Documentary'\n",
      "/var/folders/0k/t_v9n_fd08b6ymg1f7lkdlb40000gn/T/ipykernel_31144/1690897822.py:5: SettingWithCopyWarning: \n",
      "A value is trying to be set on a copy of a slice from a DataFrame\n",
      "\n",
      "See the caveats in the documentation: https://pandas.pydata.org/pandas-docs/stable/user_guide/indexing.html#returning-a-view-versus-a-copy\n",
      "  imdb['genres'][i] = 'Action'\n",
      "/var/folders/0k/t_v9n_fd08b6ymg1f7lkdlb40000gn/T/ipykernel_31144/1690897822.py:11: SettingWithCopyWarning: \n",
      "A value is trying to be set on a copy of a slice from a DataFrame\n",
      "\n",
      "See the caveats in the documentation: https://pandas.pydata.org/pandas-docs/stable/user_guide/indexing.html#returning-a-view-versus-a-copy\n",
      "  imdb['genres'][i] = 'Thriller'\n",
      "/var/folders/0k/t_v9n_fd08b6ymg1f7lkdlb40000gn/T/ipykernel_31144/1690897822.py:9: SettingWithCopyWarning: \n",
      "A value is trying to be set on a copy of a slice from a DataFrame\n",
      "\n",
      "See the caveats in the documentation: https://pandas.pydata.org/pandas-docs/stable/user_guide/indexing.html#returning-a-view-versus-a-copy\n",
      "  imdb['genres'][i] = 'Musical'\n"
     ]
    }
   ],
   "source": [
    "for i in range(len(imdb)):\n",
    "    if 'History' in  imdb['genres'][i]:\n",
    "        imdb['genres'][i] = 'History'\n",
    "    elif 'Action' in  imdb['genres'][i]:\n",
    "        imdb['genres'][i] = 'Action'\n",
    "    elif 'Drama' in imdb['genres'][i]:\n",
    "        imdb['genres'][i] = 'Drama'\n",
    "    elif 'Musical' in  imdb['genres'][i]:\n",
    "        imdb['genres'][i] = 'Musical'\n",
    "    elif 'Thriller' in  imdb['genres'][i]:\n",
    "        imdb['genres'][i] = 'Thriller'\n",
    "    elif 'Documentary' in  imdb['genres'][i]:\n",
    "        imdb['genres'][i] = 'Documentary'\n",
    "    elif 'History' in  imdb['genres'][i]:\n",
    "        imdb['genres'][i] = 'History'"
   ]
  },
  {
   "cell_type": "code",
   "execution_count": 59,
   "metadata": {},
   "outputs": [
    {
     "data": {
      "text/plain": [
       "array(['Crime', 'Biography', 'Drama', 'Comedy', 'Animation', 'History',\n",
       "       'Documentary', 'Action', 'Sci-Fi', 'Thriller', 'Horror',\n",
       "       'Adventure', 'Fantasy', 'Sport', 'Romance', 'Mystery', 'Musical',\n",
       "       'Mystery,Romance', 'Family', 'Western', 'Music', 'Music,Romance',\n",
       "       'Family,Mystery', 'Family,Romance', 'War', 'News',\n",
       "       'Family,Music,Romance', 'Game-Show', 'Family,Music', 'Reality-TV',\n",
       "       'Family,Western', 'Romance,Western'], dtype=object)"
      ]
     },
     "execution_count": 59,
     "metadata": {},
     "output_type": "execute_result"
    }
   ],
   "source": [
    "imdb['genres'].unique()"
   ]
  },
  {
   "cell_type": "code",
   "execution_count": null,
   "metadata": {},
   "outputs": [],
   "source": []
  },
  {
   "cell_type": "code",
   "execution_count": null,
   "metadata": {},
   "outputs": [],
   "source": []
  },
  {
   "cell_type": "markdown",
   "metadata": {},
   "source": [
    "After the 1st table is cleaned, I will merge the imdb table with the budget file."
   ]
  },
  {
   "cell_type": "code",
   "execution_count": 36,
   "metadata": {},
   "outputs": [],
   "source": [
    "imdb_all = imdb.merge(budget, left_on = 'original_title', right_on ='movie', suffixes = (False, '_bud'))"
   ]
  },
  {
   "cell_type": "code",
   "execution_count": 38,
   "metadata": {},
   "outputs": [
    {
     "name": "stdout",
     "output_type": "stream",
     "text": [
      "<class 'pandas.core.frame.DataFrame'>\n",
      "Int64Index: 2530 entries, 0 to 2529\n",
      "Data columns (total 14 columns):\n",
      " #   Column             Non-Null Count  Dtype  \n",
      "---  ------             --------------  -----  \n",
      " 0   movie_id           2530 non-null   object \n",
      " 1   primary_title      2530 non-null   object \n",
      " 2   original_title     2530 non-null   object \n",
      " 3   start_year         2530 non-null   int64  \n",
      " 4   runtime_minutes    2530 non-null   float64\n",
      " 5   genres             2530 non-null   object \n",
      " 6   averagerating      2530 non-null   float64\n",
      " 7   numvotes           2530 non-null   int64  \n",
      " 8   id                 2530 non-null   int64  \n",
      " 9   release_date       2530 non-null   object \n",
      " 10  movie              2530 non-null   object \n",
      " 11  production_budget  2530 non-null   object \n",
      " 12  domestic_gross     2530 non-null   object \n",
      " 13  worldwide_gross    2530 non-null   object \n",
      "dtypes: float64(2), int64(3), object(9)\n",
      "memory usage: 296.5+ KB\n"
     ]
    }
   ],
   "source": [
    "imdb_all.info()"
   ]
  },
  {
   "cell_type": "code",
   "execution_count": null,
   "metadata": {},
   "outputs": [],
   "source": []
  },
  {
   "cell_type": "code",
   "execution_count": null,
   "metadata": {},
   "outputs": [],
   "source": []
  },
  {
   "cell_type": "code",
   "execution_count": 335,
   "metadata": {},
   "outputs": [
    {
     "data": {
      "text/plain": [
       "array(['Action', 'Crime', 'Drama', 'Biography', 'Comedy', 'Fantasy',\n",
       "       'Horror', 'Thriller', 'Adventure', 'Animation', 'History',\n",
       "       'Documentary', 'Mystery', 'Sci-Fi', 'Family', 'Romance', 'War',\n",
       "       'Music', 'Sport', 'Western', 'Musical', 'News', 'Reality-TV',\n",
       "       'Game-Show', 'Adult'], dtype=object)"
      ]
     },
     "execution_count": 335,
     "metadata": {},
     "output_type": "execute_result"
    }
   ],
   "source": [
    "genres = (imdb_clean['genres'].str.split(pat = ',')).explode().unique() \n",
    "genres"
   ]
  },
  {
   "cell_type": "code",
   "execution_count": 336,
   "metadata": {},
   "outputs": [
    {
     "data": {
      "text/plain": [
       "{'Action': 2063,\n",
       " 'Crime': 586,\n",
       " 'Drama': 35446,\n",
       " 'Biography': 322,\n",
       " 'Comedy': 14556,\n",
       " 'Fantasy': 352,\n",
       " 'Horror': 5757,\n",
       " 'Thriller': 3656,\n",
       " 'Adventure': 369,\n",
       " 'Animation': 868,\n",
       " 'History': 202,\n",
       " 'Documentary': 21360,\n",
       " 'Mystery': 347,\n",
       " 'Sci-Fi': 521,\n",
       " 'Family': 1291,\n",
       " 'Romance': 1346,\n",
       " 'War': 111,\n",
       " 'Music': 245,\n",
       " 'Sport': 110,\n",
       " 'Western': 168,\n",
       " 'Musical': 226,\n",
       " 'News': 4,\n",
       " 'Reality-TV': 5,\n",
       " 'Game-Show': 1,\n",
       " 'Adult': 0}"
      ]
     },
     "execution_count": 336,
     "metadata": {},
     "output_type": "execute_result"
    }
   ],
   "source": [
    "#creating an empty frequency table for genre\n",
    "freq = {genre: 0 for genre in genres}\n",
    "freq\n",
    "\n",
    "#count frequency\n",
    "for genre in imdb['genres']:\n",
    "    #print(genre)\n",
    "    if genre in freq.keys():\n",
    "        freq[genre] +=1\n",
    "\n",
    "# dict comprehension\n",
    "#{genre: (freq[genre] = freq[genre] +1) for genre in imdb['genres'] if genre in freq.keys()}\n",
    "\n",
    "freq"
   ]
  },
  {
   "cell_type": "code",
   "execution_count": 337,
   "metadata": {},
   "outputs": [
    {
     "data": {
      "text/plain": [
       "[35446, 21360, 14556, 5757, 3656, 2063, 1346, 1291, 868, 586]"
      ]
     },
     "execution_count": 337,
     "metadata": {},
     "output_type": "execute_result"
    }
   ],
   "source": [
    "import operator\n",
    "freq = dict(sorted(freq.items(), key = operator.itemgetter(1), reverse= True))\n",
    "freq_keys = list(freq.keys())\n",
    "freq_values = list(freq.values())\n",
    "freq_keys[:10]\n",
    "freq_values[:10]"
   ]
  },
  {
   "cell_type": "code",
   "execution_count": 338,
   "metadata": {},
   "outputs": [
    {
     "data": {
      "image/png": "[encoded data removed]",
      "text/plain": [
       "<Figure size 864x648 with 1 Axes>"
      ]
     },
     "metadata": {
      "needs_background": "light"
     },
     "output_type": "display_data"
    }
   ],
   "source": [
    "# bar diagram for number of films in genres\n",
    "fig, ax = plt.subplots(figsize=(12,9))\n",
    "ax.bar(freq_keys[:10], freq_values[:10])\n",
    "fig.set_tight_layout(True)\n",
    "\n",
    "ax.set_title(\"Top 10 genres by gross revenue\")\n",
    "ax.set_xlabel(\"Genres\")\n",
    "ax.set_ylabel(\"Grossing\");"
   ]
  },
  {
   "cell_type": "code",
   "execution_count": 339,
   "metadata": {},
   "outputs": [
    {
     "data": {
      "text/plain": [
       "movie_id                  0\n",
       "primary_title             0\n",
       "original_title            0\n",
       "start_year                0\n",
       "runtime_minutes       10899\n",
       "genres                    0\n",
       "averagerating             0\n",
       "numvotes                  0\n",
       "ordering                  0\n",
       "title                     0\n",
       "region                43229\n",
       "language             223691\n",
       "types                107859\n",
       "attributes           247737\n",
       "is_original_title         0\n",
       "dtype: int64"
      ]
     },
     "execution_count": 339,
     "metadata": {},
     "output_type": "execute_result"
    }
   ],
   "source": [
    "imdb_clean.isna().sum()"
   ]
  },
  {
   "cell_type": "code",
   "execution_count": null,
   "metadata": {},
   "outputs": [],
   "source": []
  },
  {
   "cell_type": "code",
   "execution_count": null,
   "metadata": {},
   "outputs": [],
   "source": [
    "#merging the budget file - old version"
   ]
  },
  {
   "cell_type": "code",
   "execution_count": 343,
   "metadata": {},
   "outputs": [],
   "source": [
    "imdb_all = imdb.merge(budget, left_on='original_title', right_on ='movie', suffixes = (False, '_bud'))"
   ]
  },
  {
   "cell_type": "code",
   "execution_count": null,
   "metadata": {},
   "outputs": [],
   "source": [
    "imdb_all = imdb_with_budget.drop_duplicates(subset = 'movie_id',keep='first', inplace = False)"
   ]
  },
  {
   "cell_type": "code",
   "execution_count": null,
   "metadata": {},
   "outputs": [],
   "source": [
    "#replacing '$' and ',' in worldwide_gross, domestic_gross and production_budget columns\n",
    "imdb_all['worldwide_gross'] = imdb_all['worldwide_gross'].apply(lambda x: x.replace('$',''))\n",
    "imdb_all['worldwide_gross']= imdb_all['worldwide_gross'].apply(lambda x: x.replace(',',''))\n",
    "imdb_all['worldwide_gross'] = imdb_all['worldwide_gross'].astype(int)\n",
    "imdb_all['domestic_gross'] = imdb_all['domestic_gross'].apply(lambda x: x.replace('$',''))\n",
    "imdb_all['domestic_gross'] = imdb_all['domestic_gross'].apply(lambda x: x.replace(',',''))\n",
    "imdb_all['domestic_gross'] = imdb_all['domestic_gross'].astype(int)\n",
    "imdb_all['production_budget'] = imdb_all['production_budget'].apply(lambda x: x.replace('$',''))\n",
    "imdb_all['production_budget'] = imdb_all['production_budget'].apply(lambda x: x.replace(',',''))\n",
    "imdb_all['production_budget'] = imdb_all['production_budget'].astype(int)\n",
    "\n",
    "imdb_all['foreign_gross'] = imdb_all['worldwide_gross'] - imdb_all['domestic_gross']\n",
    "imdb_all"
   ]
  },
  {
   "cell_type": "code",
   "execution_count": null,
   "metadata": {},
   "outputs": [],
   "source": []
  },
  {
   "cell_type": "code",
   "execution_count": null,
   "metadata": {},
   "outputs": [],
   "source": []
  },
  {
   "cell_type": "code",
   "execution_count": 344,
   "metadata": {},
   "outputs": [
    {
     "data": {
      "text/plain": [
       "0        False\n",
       "1        False\n",
       "2        False\n",
       "3        False\n",
       "4        False\n",
       "         ...  \n",
       "50487    False\n",
       "50488    False\n",
       "50489    False\n",
       "50490    False\n",
       "50491    False\n",
       "Length: 50492, dtype: bool"
      ]
     },
     "execution_count": 344,
     "metadata": {},
     "output_type": "execute_result"
    }
   ],
   "source": [
    "# check for duplicates\n",
    "imdb_with_budget.duplicated(keep='first')"
   ]
  },
  {
   "cell_type": "code",
   "execution_count": 345,
   "metadata": {},
   "outputs": [],
   "source": [
    "imdb_all = imdb_with_budget.drop_duplicates(subset = 'movie_id',keep='first', inplace = False)"
   ]
  },
  {
   "cell_type": "code",
   "execution_count": null,
   "metadata": {},
   "outputs": [],
   "source": []
  },
  {
   "cell_type": "code",
   "execution_count": null,
   "metadata": {},
   "outputs": [],
   "source": []
  },
  {
   "cell_type": "code",
   "execution_count": 348,
   "metadata": {},
   "outputs": [],
   "source": []
  },
  {
   "cell_type": "code",
   "execution_count": 359,
   "metadata": {},
   "outputs": [
    {
     "data": {
      "text/plain": [
       "['US', 'en', 'RU', 'BR', 'CA', 'GR', 'DE', 'FR', 'BG', 'PL']"
      ]
     },
     "execution_count": 359,
     "metadata": {},
     "output_type": "execute_result"
    }
   ],
   "source": [
    "# top regions by number of movies\n",
    "top_regions = imdb_all['region'].value_counts()\n",
    "top_reg_nr = list(top_regions[:10])\n",
    "top_reg_ind =list(top_regions.index)[:10]\n",
    "top_reg_ind\n",
    "#top_reg_index = top_regions.index\n",
    "#top_reg_values = top_regions.value\n",
    "#r = ['XWW', 'XSA', 'XEU','None']\n",
    "#check = imdb[imdb_all['region'] == 'XEU']\n",
    "#check"
   ]
  },
  {
   "cell_type": "code",
   "execution_count": 362,
   "metadata": {},
   "outputs": [],
   "source": [
    "imdb_all['worldwide_gross'] = imdb_all['worldwide_gross'].apply(lambda x: x.replace('$',''))\n",
    "imdb_all['worldwide_gross']= imdb_all['worldwide_gross'].apply(lambda x: x.replace(',',''))"
   ]
  },
  {
   "cell_type": "code",
   "execution_count": 366,
   "metadata": {},
   "outputs": [],
   "source": [
    "imdb_all['worldwide_gross'] = imdb_all['worldwide_gross'].astype(int)"
   ]
  },
  {
   "cell_type": "code",
   "execution_count": 386,
   "metadata": {},
   "outputs": [],
   "source": [
    "# top regions by grossing \n",
    "grouped_region = imdb_all.groupby('region')[['worldwide_gross']].mean()\n",
    "#remove scientific notation \n",
    "#grouped_region.apply(lambda x: '%.5f' % x)#,axis=1)\n",
    "top10regions = grouped_region.sort_values(by = 'worldwide_gross', ascending = False).head(10)"
   ]
  },
  {
   "cell_type": "code",
   "execution_count": 390,
   "metadata": {},
   "outputs": [
    {
     "data": {
      "text/html": [
       "<div>\n",
       "<style scoped>\n",
       "    .dataframe tbody tr th:only-of-type {\n",
       "        vertical-align: middle;\n",
       "    }\n",
       "\n",
       "    .dataframe tbody tr th {\n",
       "        vertical-align: top;\n",
       "    }\n",
       "\n",
       "    .dataframe thead th {\n",
       "        text-align: right;\n",
       "    }\n",
       "</style>\n",
       "<table border=\"1\" class=\"dataframe\">\n",
       "  <thead>\n",
       "    <tr style=\"text-align: right;\">\n",
       "      <th></th>\n",
       "      <th>worldwide_gross</th>\n",
       "    </tr>\n",
       "    <tr>\n",
       "      <th>region</th>\n",
       "      <th></th>\n",
       "    </tr>\n",
       "  </thead>\n",
       "  <tbody>\n",
       "    <tr>\n",
       "      <th>LV</th>\n",
       "      <td>5.800867e+08</td>\n",
       "    </tr>\n",
       "    <tr>\n",
       "      <th>CZ</th>\n",
       "      <td>4.243947e+08</td>\n",
       "    </tr>\n",
       "    <tr>\n",
       "      <th>GE</th>\n",
       "      <td>3.864778e+08</td>\n",
       "    </tr>\n",
       "    <tr>\n",
       "      <th>XWW</th>\n",
       "      <td>3.428830e+08</td>\n",
       "    </tr>\n",
       "    <tr>\n",
       "      <th>CN</th>\n",
       "      <td>2.985120e+08</td>\n",
       "    </tr>\n",
       "    <tr>\n",
       "      <th>IR</th>\n",
       "      <td>2.693539e+08</td>\n",
       "    </tr>\n",
       "    <tr>\n",
       "      <th>UA</th>\n",
       "      <td>2.544861e+08</td>\n",
       "    </tr>\n",
       "    <tr>\n",
       "      <th>SK</th>\n",
       "      <td>2.459365e+08</td>\n",
       "    </tr>\n",
       "    <tr>\n",
       "      <th>EE</th>\n",
       "      <td>2.376354e+08</td>\n",
       "    </tr>\n",
       "    <tr>\n",
       "      <th>XSA</th>\n",
       "      <td>2.320178e+08</td>\n",
       "    </tr>\n",
       "  </tbody>\n",
       "</table>\n",
       "</div>"
      ],
      "text/plain": [
       "        worldwide_gross\n",
       "region                 \n",
       "LV         5.800867e+08\n",
       "CZ         4.243947e+08\n",
       "GE         3.864778e+08\n",
       "XWW        3.428830e+08\n",
       "CN         2.985120e+08\n",
       "IR         2.693539e+08\n",
       "UA         2.544861e+08\n",
       "SK         2.459365e+08\n",
       "EE         2.376354e+08\n",
       "XSA        2.320178e+08"
      ]
     },
     "execution_count": 390,
     "metadata": {},
     "output_type": "execute_result"
    }
   ],
   "source": [
    "top10regions"
   ]
  },
  {
   "cell_type": "code",
   "execution_count": 393,
   "metadata": {},
   "outputs": [
    {
     "data": {
      "text/plain": [
       "<AxesSubplot:xlabel='region', ylabel='worldwide_gross'>"
      ]
     },
     "execution_count": 393,
     "metadata": {},
     "output_type": "execute_result"
    },
    {
     "data": {
      "image/png": "[encoded data removed]",
      "text/plain": [
       "<Figure size 432x288 with 1 Axes>"
      ]
     },
     "metadata": {
      "needs_background": "light"
     },
     "output_type": "display_data"
    }
   ],
   "source": [
    "sns.barplot(x=top10regions.index, y = top10regions['worldwide_gross'])"
   ]
  },
  {
   "cell_type": "code",
   "execution_count": 61,
   "metadata": {},
   "outputs": [],
   "source": [
    "#sns.barplot(data = grouped_region.sort_values(ascending = False).head(10),\n",
    " #           x = grouped_region.sort_values(ascending = False).head(10).index)"
   ]
  },
  {
   "cell_type": "code",
   "execution_count": null,
   "metadata": {},
   "outputs": [],
   "source": []
  },
  {
   "cell_type": "code",
   "execution_count": 375,
   "metadata": {},
   "outputs": [
    {
     "data": {
      "text/plain": [
       "region\n",
       "AE    105.50\n",
       "AL    109.50\n",
       "AR    106.80\n",
       "AU     94.23\n",
       "AZ    107.50\n",
       "       ...  \n",
       "ko    100.00\n",
       "pt    100.50\n",
       "tl    103.00\n",
       "tr     97.00\n",
       "ur    155.00\n",
       "Name: runtime_minutes, Length: 87, dtype: float64"
      ]
     },
     "execution_count": 375,
     "metadata": {},
     "output_type": "execute_result"
    }
   ],
   "source": [
    "#avg runtime per region\n",
    "avg_runtime_genre= imdb.groupby('genre')['runtime_minutes'].mean()\n",
    "avg_runtime_genre.round(2)"
   ]
  },
  {
   "cell_type": "code",
   "execution_count": null,
   "metadata": {},
   "outputs": [],
   "source": [
    "\n",
    "\n",
    "\n"
   ]
  },
  {
   "cell_type": "markdown",
   "metadata": {},
   "source": [
    "### Next Steps"
   ]
  },
  {
   "cell_type": "code",
   "execution_count": null,
   "metadata": {},
   "outputs": [],
   "source": []
  },
  {
   "cell_type": "markdown",
   "metadata": {},
   "source": [
    "### Recommendations\n",
    "\n",
    "To check gross revenue vs merchandise revenue."
   ]
  },
  {
   "cell_type": "markdown",
   "metadata": {},
   "source": [
    "### Thank You!"
   ]
  }
 ],
 "metadata": {
  "kernelspec": {
   "display_name": "Python 3 (ipykernel)",
   "language": "python",
   "name": "python3"
  },
  "language_info": {
   "codemirror_mode": {
    "name": "ipython",
    "version": 3
   },
   "file_extension": ".py",
   "mimetype": "text/x-python",
   "name": "python",
   "nbconvert_exporter": "python",
   "pygments_lexer": "ipython3",
   "version": "3.9.12"
  }
 },
 "nbformat": 4,
 "nbformat_minor": 2
}
